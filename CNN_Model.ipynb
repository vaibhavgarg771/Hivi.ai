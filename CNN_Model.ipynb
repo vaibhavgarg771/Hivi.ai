{
 "cells": [
  {
   "cell_type": "code",
   "execution_count": 1,
   "metadata": {
    "collapsed": true
   },
   "outputs": [],
   "source": [
    "#CNN Refined Code\n",
    "## Importing whatever required\n",
    "import tensorflow as tf \n",
    "import numpy as np\n",
    "import pandas as pd\n",
    "sess = tf.InteractiveSession()\n",
    "from tempfile import TemporaryFile\n",
    "outfile = TemporaryFile()\n",
    "import pickle"
   ]
  },
  {
   "cell_type": "code",
   "execution_count": 2,
   "metadata": {
    "collapsed": true
   },
   "outputs": [],
   "source": [
    "#method to load GloVe Vectors by using the now keyword 'model'\n",
    "def loadGloveModel(gloveFile):\n",
    "    print \"Loading Glove Model\"\n",
    "    f = open(gloveFile,'r')\n",
    "    model = {}\n",
    "    for line in f:\n",
    "        splitLine = line.split()\n",
    "        word = splitLine[0]\n",
    "        embedding = [float(val) for val in splitLine[1:]]\n",
    "        model[word] = embedding\n",
    "    print \"Done.\",len(model),\" words loaded!\"\n",
    "    return model"
   ]
  },
  {
   "cell_type": "code",
   "execution_count": 3,
   "metadata": {},
   "outputs": [
    {
     "name": "stdout",
     "output_type": "stream",
     "text": [
      "Loading Glove Model\n",
      "Done. 400001  words loaded!\n"
     ]
    }
   ],
   "source": [
    "model = loadGloveModel('glove.6B.50d.txt') # loading word embeddings"
   ]
  },
  {
   "cell_type": "code",
   "execution_count": 4,
   "metadata": {
    "collapsed": true
   },
   "outputs": [],
   "source": [
    "questions_as_words = np.array(pd.read_csv('./myra/data4.csv')['0']) #loading the questions"
   ]
  },
  {
   "cell_type": "code",
   "execution_count": 5,
   "metadata": {
    "collapsed": true
   },
   "outputs": [],
   "source": [
    "#converting questions to word vectors\n",
    "questions_as_vecs = []\n",
    "for line in questions_as_words:\n",
    "    sentence_vecs = np.zeros((50,20))\n",
    "    line = line.lower()\n",
    "    line_split = line.split()\n",
    "    i = 0;\n",
    "    for word in line_split: #obtaining embeddings for all the words in a line and putting them in a vector 50*20\n",
    "                            # limiting the number of words in a sentence to 20\n",
    "        try:\n",
    "            sentence_vecs[:,i] = model[word]\n",
    "            i+=1    \n",
    "        except:\n",
    "            sentence_vecs[:,i] = model['<unk>']\n",
    "            i+=1 \n",
    "        if i == 19:\n",
    "            break;\n",
    "    questions_as_vecs.append(sentence_vecs) #putting the individual vectors in a larger vector\n",
    "vectors = np.reshape(questions_as_vecs,(1409,50,20,1))    # converting question vectors to tensor format\n",
    "pickle.dump(vectors, open(\"./myra/question_vectors.p\", \"wb\")) # saving the sentence embeddings        \n"
   ]
  },
  {
   "cell_type": "code",
   "execution_count": 6,
   "metadata": {
    "collapsed": true
   },
   "outputs": [],
   "source": [
    "vecs = pickle.load( open( \"./myra/question_vectors.p\", \"rb\" ) )\n",
    "vectors = np.reshape(vecs,(1409,50,20,1))"
   ]
  },
  {
   "cell_type": "code",
   "execution_count": 7,
   "metadata": {
    "collapsed": true
   },
   "outputs": [],
   "source": [
    "question_labels = np.array(pd.read_csv('./myra/data4.csv')['1']) # reading the sentence labels\n",
    "size = len(question_labels)\n",
    "labels_one_hot = np.zeros((size,282)) # a 282 dimensional label vector for the dataset\n",
    "labels_one_hot[np.arange(size),question_labels] = 1 # converting labels to one hot representation"
   ]
  },
  {
   "cell_type": "code",
   "execution_count": 8,
   "metadata": {},
   "outputs": [
    {
     "data": {
      "text/plain": [
       "<tf.Tensor 'MaxPool:0' shape=(?, 25, 10, 32) dtype=float32>"
      ]
     },
     "execution_count": 8,
     "metadata": {},
     "output_type": "execute_result"
    }
   ],
   "source": [
    "#Placeholders for training data\n",
    "x = tf.placeholder(tf.float32, shape=[None,50,20,1])\n",
    "y_ = tf.placeholder(tf.float32, shape=[None,282])\n",
    "# weights\n",
    "w_conv1 = tf.Variable(tf.truncated_normal([5,5,1,32],stddev=0.1), tf.float32)\n",
    "b_conv1 = tf.Variable(tf.constant(0.1, tf.float32, shape=[32]))\n",
    "\n",
    "convolve1 = tf.nn.conv2d(x,w_conv1,strides=[1,1,1,1], padding=\"SAME\") + b_conv1\n",
    "h_conv1 = tf.nn.relu(convolve1)\n",
    "max_pool1 = tf.nn.max_pool(h_conv1, ksize=[1,2,2,1], strides=[1,2,2,1], padding=\"SAME\")\n",
    "\n",
    "layer1 = max_pool1\n",
    "print \"layer1 : \",layer1\n"
   ]
  },
  {
   "cell_type": "code",
   "execution_count": 9,
   "metadata": {
    "collapsed": true
   },
   "outputs": [],
   "source": [
    "w_conv2 = tf.Variable(tf.truncated_normal([5,5,32,64], stddev=0.1), tf.float32)\n",
    "b_conv2 = tf.Variable(tf.constant(0.1, shape=[64]), tf.float32)\n",
    "\n",
    "convolve2 = tf.nn.conv2d(layer1,w_conv2, strides=[1,1,1,1], padding=\"SAME\") + b_conv2\n",
    "relu2 = tf.nn.relu(convolve2)\n",
    "max_pool2 = tf.nn.max_pool(relu2, ksize=[1,2,2,1], strides=[1,2,2,1], padding=\"SAME\")\n",
    "layer2 = max_pool2\n",
    "\n",
    "layer2_mat = tf.reshape(layer2,[-1,13*5*64])"
   ]
  },
  {
   "cell_type": "code",
   "execution_count": 10,
   "metadata": {},
   "outputs": [
    {
     "name": "stdout",
     "output_type": "stream",
     "text": [
      "Tensor(\"Relu_2:0\", shape=(?, 1024), dtype=float32)\n"
     ]
    }
   ],
   "source": [
    "w_fc1 = tf.Variable(tf.truncated_normal([13*5*64,1024], stddev=0.1), tf.float32)\n",
    "b_fc1 = tf.Variable(tf.constant(0.1, shape=[1024]), tf.float32)\n",
    "\n",
    "fully_1 = tf.matmul(layer2_mat, w_fc1) + b_fc1\n",
    "relu3 = tf.nn.relu(fully_1)\n",
    "layer3 = relu3\n",
    "print layer3"
   ]
  },
  {
   "cell_type": "code",
   "execution_count": 11,
   "metadata": {},
   "outputs": [
    {
     "name": "stdout",
     "output_type": "stream",
     "text": [
      "Tensor(\"Softmax:0\", shape=(?, 282), dtype=float32)\n"
     ]
    }
   ],
   "source": [
    "w_fc2 = tf.Variable(tf.truncated_normal([1024,282], stddev=0.1), tf.float32)\n",
    "b_fc2 = tf.Variable(tf.constant(0.1, shape=[282]), tf.float32)\n",
    "#layer3_drop = tf.nn.dropout(layer3,0.2)\n",
    "fully_2 = tf.matmul(layer3, w_fc2) + b_fc2\n",
    "softy = tf.nn.softmax(fully_2)\n",
    "layer4 = softy\n",
    "print layer4"
   ]
  },
  {
   "cell_type": "code",
   "execution_count": 12,
   "metadata": {
    "collapsed": true
   },
   "outputs": [],
   "source": [
    "cross_entropy = tf.reduce_mean(-tf.reduce_sum(y_*tf.log(layer4), reduction_indices=[1]))\n",
    "train_step = tf.train.AdamOptimizer(1e-4).minimize(cross_entropy)\n",
    "correct_prediction = tf.equal(tf.argmax(layer4,1),tf.argmax(y_,1))\n",
    "accuracy = tf.reduce_mean(tf.cast(correct_prediction, tf.float32))\n",
    "sess.run(tf.global_variables_initializer())"
   ]
  },
  {
   "cell_type": "code",
   "execution_count": 13,
   "metadata": {
    "collapsed": true
   },
   "outputs": [],
   "source": [
    "def batches(iterable, n = 1):\n",
    "   current_batch = []\n",
    "   for item in iterable:\n",
    "       current_batch.append(item)\n",
    "       if len(current_batch) == n:\n",
    "           yield current_batch\n",
    "           current_batch = []\n",
    "   if current_batch:\n",
    "       yield current_batch"
   ]
  },
  {
   "cell_type": "code",
   "execution_count": null,
   "metadata": {
    "collapsed": true
   },
   "outputs": [],
   "source": [
    "for i in range(200):\n",
    "  # for batch,batch_label in zip(batches(vectors, 1),batches(labels_one_hot,1)):\n",
    "   train_step.run(feed_dict={x:batch, y_:batch_label}) \n",
    "   if i%10 == 0:\n",
    "       train_accuracy = accuracy.eval(feed_dict={x:vectors, y_:labels_one_hot})\n",
    "       print \"step %d: train_accuracy = %g\"%(i, float(train_accuracy))\n",
    "     "
   ]
  }
 ],
 "metadata": {
  "kernelspec": {
   "display_name": "Python 2",
   "language": "python",
   "name": "python2"
  },
  "language_info": {
   "codemirror_mode": {
    "name": "ipython",
    "version": 2
   },
   "file_extension": ".py",
   "mimetype": "text/x-python",
   "name": "python",
   "nbconvert_exporter": "python",
   "pygments_lexer": "ipython2",
   "version": "2.7.12"
  }
 },
 "nbformat": 4,
 "nbformat_minor": 2
}
