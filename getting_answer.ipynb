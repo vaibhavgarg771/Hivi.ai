{
 "cells": [
  {
   "cell_type": "code",
   "execution_count": 1,
   "metadata": {
    "collapsed": true
   },
   "outputs": [],
   "source": [
    "import tensorflow as tf\n",
    "from res_map import responses\n",
    "res = responses()\n",
    "import numpy as np"
   ]
  },
  {
   "cell_type": "code",
   "execution_count": 2,
   "metadata": {},
   "outputs": [
    {
     "name": "stdout",
     "output_type": "stream",
     "text": [
      "model restored\n"
     ]
    }
   ],
   "source": [
    "w_conv1 = tf.Variable(tf.truncated_normal([5,5,1,32],stddev=0.1), tf.float32, name = \"w_conv1\")\n",
    "b_conv1 = tf.Variable(tf.constant(0.1, tf.float32, shape=[32]), name = \"b_conv1\")\n",
    "\n",
    "w_conv2 = tf.Variable(tf.truncated_normal([5,5,32,64], stddev=0.1), tf.float32, name = \"w_conv2\")\n",
    "b_conv2 = tf.Variable(tf.constant(0.1, shape=[64]), tf.float32, name=\"b_conv2\")\n",
    "\n",
    "w_fc1 = tf.Variable(tf.truncated_normal([13*5*64,1024], stddev=0.1), tf.float32, name=\"w_fc1\")\n",
    "b_fc1 = tf.Variable(tf.constant(0.1, shape=[1024]), tf.float32, name = \"b_fc1\")\n",
    "\n",
    "w_fc2 = tf.Variable(tf.truncated_normal([1024,282], stddev=0.1), tf.float32, name = \"w_fc2\")\n",
    "b_fc2 = tf.Variable(tf.constant(0.1, shape=[282]), tf.float32, name = \"b_fc1\")\n",
    "\n",
    "sess = tf.InteractiveSession()\n",
    "saver = tf.train.Saver()\n",
    "saver.restore(sess,\"data/model_hiv.ckpt\")\n",
    "print \"model restored\""
   ]
  },
  {
   "cell_type": "code",
   "execution_count": 3,
   "metadata": {},
   "outputs": [
    {
     "name": "stdout",
     "output_type": "stream",
     "text": [
      "layer1:  Tensor(\"MaxPool:0\", shape=(?, 25, 10, 32), dtype=float32)\n",
      "layer2:  Tensor(\"MaxPool_1:0\", shape=(?, 13, 5, 64), dtype=float32)\n",
      "layer3:  Tensor(\"Relu_2:0\", shape=(?, 1024), dtype=float32)\n",
      "layer4:  Tensor(\"Softmax:0\", shape=(?, 282), dtype=float32)\n"
     ]
    }
   ],
   "source": [
    "x = tf.placeholder(tf.float32, shape=[None,50,20,1])\n",
    "\n",
    "convolve1 = tf.nn.conv2d(x,w_conv1,strides=[1,1,1,1], padding=\"SAME\") + b_conv1\n",
    "h_conv1 = tf.nn.relu(convolve1)\n",
    "max_pool1 = tf.nn.max_pool(h_conv1, ksize=[1,2,2,1], strides=[1,2,2,1], padding=\"SAME\")\n",
    "\n",
    "layer1 = max_pool1\n",
    "print \"layer1: \",layer1\n",
    "\n",
    "convolve2 = tf.nn.conv2d(layer1,w_conv2, strides=[1,1,1,1], padding=\"SAME\") + b_conv2\n",
    "relu2 = tf.nn.relu(convolve2)\n",
    "max_pool2 = tf.nn.max_pool(relu2, ksize=[1,2,2,1], strides=[1,2,2,1], padding=\"SAME\")\n",
    "layer2 = max_pool2\n",
    "print \"layer2: \",layer2\n",
    "layer2_mat = tf.reshape(layer2,[-1,13*5*64])\n",
    "\n",
    "fully_1 = tf.matmul(layer2_mat, w_fc1) + b_fc1\n",
    "relu3 = tf.nn.relu(fully_1)\n",
    "layer3 = relu3\n",
    "print \"layer3: \" ,layer3\n",
    "\n",
    "fully_2 = tf.matmul(layer3, w_fc2) + b_fc2\n",
    "softy = tf.nn.softmax(fully_2)\n",
    "layer4 = softy\n",
    "print \"layer4: \",layer4"
   ]
  },
  {
   "cell_type": "code",
   "execution_count": 4,
   "metadata": {
    "collapsed": true
   },
   "outputs": [],
   "source": [
    "def loadGloveModel(gloveFile):\n",
    "    print \"Loading Glove Model\"\n",
    "    f = open(gloveFile,'r')\n",
    "    model = {}\n",
    "    for line in f:\n",
    "        splitLine = line.split()\n",
    "        word = splitLine[0]\n",
    "        embedding = [float(val) for val in splitLine[1:]]\n",
    "        model[word] = embedding\n",
    "    print \"Done.\",len(model),\" words loaded!\"\n",
    "    return model"
   ]
  },
  {
   "cell_type": "code",
   "execution_count": 5,
   "metadata": {},
   "outputs": [
    {
     "name": "stdout",
     "output_type": "stream",
     "text": [
      "Loading Glove Model\n",
      "Done. 400001  words loaded!\n"
     ]
    }
   ],
   "source": [
    "model = loadGloveModel('glove.6B.50d.txt') # loading word embeddings"
   ]
  },
  {
   "cell_type": "code",
   "execution_count": 31,
   "metadata": {},
   "outputs": [
    {
     "name": "stdout",
     "output_type": "stream",
     "text": [
      "Hii :) \n",
      "Wassup \n",
      "How may I help you? \n",
      "\n"
     ]
    }
   ],
   "source": [
    "line = \"hello\"       \n",
    "\n",
    "checker = np.zeros((50,20))\n",
    "line = line.lower()\n",
    "#print line\n",
    "line_split = line.split()\n",
    "#print line_split\n",
    "#wordvecs = []\n",
    "i = 0;\n",
    "for word in line_split:\n",
    "    try:\n",
    "        checker[:,i] = model[word]\n",
    "        #wordvecs.append(model[word])\n",
    "        i+=1    \n",
    "    except:\n",
    "        checker[:,i] = model['<unk>']\n",
    "        #wordvecs.append(model[word])\n",
    "        i+=1 \n",
    "check = np.reshape(checker,[-1,50,20,1])        \n",
    "question_class = np.argmax(sess.run(layer4, feed_dict={x:check}),1)\n",
    "#print question_class\n",
    "print res[question_class[0]]"
   ]
  },
  {
   "cell_type": "code",
   "execution_count": null,
   "metadata": {
    "collapsed": true
   },
   "outputs": [],
   "source": []
  }
 ],
 "metadata": {
  "kernelspec": {
   "display_name": "Python 2",
   "language": "python",
   "name": "python2"
  },
  "language_info": {
   "codemirror_mode": {
    "name": "ipython",
    "version": 2
   },
   "file_extension": ".py",
   "mimetype": "text/x-python",
   "name": "python",
   "nbconvert_exporter": "python",
   "pygments_lexer": "ipython2",
   "version": "2.7.12"
  }
 },
 "nbformat": 4,
 "nbformat_minor": 2
}
